{
 "cells": [
  {
   "cell_type": "code",
   "execution_count": null,
   "metadata": {},
   "outputs": [
    {
     "name": "stdout",
     "output_type": "stream",
     "text": [
      "Initial theta: [[0.]\n",
      " [0.]\n",
      " [0.]\n",
      " [0.]\n",
      " [0.]]\n"
     ]
    }
   ],
   "source": [
    "import numpy as np\n",
    "import pandas as pd\n",
    "import matplotlib.pyplot as plt\n",
    "\n",
    "data = pd.read_csv('house-prices.csv')\n",
    "\n",
    "\n",
    "X = np.array(data[['SqFt', 'Bedrooms', 'Bathrooms', 'Brick']])\n",
    "y = np.array(data['Price']).reshape(-1,1)#.astype('float16')\n",
    "\n",
    "X_b = np.c_[np.ones((X.shape[0], 1)), X]\n",
    "theta = np.zeros(X_b.shape[1]).reshape(-1,1)  \n",
    "\n",
    "print(\"Initial theta:\", theta)\n"
   ]
  },
  {
   "cell_type": "code",
   "execution_count": 22,
   "metadata": {},
   "outputs": [
    {
     "data": {
      "text/plain": [
       "array([[1.00e+00, 1.79e+03, 2.00e+00, 2.00e+00, 0.00e+00],\n",
       "       [1.00e+00, 2.03e+03, 4.00e+00, 2.00e+00, 0.00e+00],\n",
       "       [1.00e+00, 1.74e+03, 3.00e+00, 2.00e+00, 0.00e+00],\n",
       "       [1.00e+00, 1.98e+03, 3.00e+00, 2.00e+00, 0.00e+00],\n",
       "       [1.00e+00, 2.13e+03, 3.00e+00, 3.00e+00, 0.00e+00],\n",
       "       [1.00e+00, 1.78e+03, 3.00e+00, 2.00e+00, 0.00e+00],\n",
       "       [1.00e+00, 1.83e+03, 3.00e+00, 3.00e+00, 1.00e+00],\n",
       "       [1.00e+00, 2.16e+03, 4.00e+00, 2.00e+00, 0.00e+00],\n",
       "       [1.00e+00, 2.11e+03, 4.00e+00, 2.00e+00, 0.00e+00],\n",
       "       [1.00e+00, 1.73e+03, 3.00e+00, 3.00e+00, 0.00e+00],\n",
       "       [1.00e+00, 2.03e+03, 3.00e+00, 2.00e+00, 1.00e+00],\n",
       "       [1.00e+00, 1.87e+03, 2.00e+00, 2.00e+00, 1.00e+00],\n",
       "       [1.00e+00, 1.91e+03, 3.00e+00, 2.00e+00, 0.00e+00],\n",
       "       [1.00e+00, 2.15e+03, 3.00e+00, 3.00e+00, 1.00e+00],\n",
       "       [1.00e+00, 2.59e+03, 4.00e+00, 3.00e+00, 0.00e+00],\n",
       "       [1.00e+00, 1.78e+03, 4.00e+00, 2.00e+00, 0.00e+00],\n",
       "       [1.00e+00, 2.19e+03, 3.00e+00, 3.00e+00, 1.00e+00],\n",
       "       [1.00e+00, 1.99e+03, 3.00e+00, 3.00e+00, 0.00e+00],\n",
       "       [1.00e+00, 1.70e+03, 2.00e+00, 2.00e+00, 1.00e+00],\n",
       "       [1.00e+00, 1.92e+03, 3.00e+00, 3.00e+00, 1.00e+00],\n",
       "       [1.00e+00, 1.79e+03, 3.00e+00, 2.00e+00, 0.00e+00],\n",
       "       [1.00e+00, 2.00e+03, 3.00e+00, 2.00e+00, 0.00e+00],\n",
       "       [1.00e+00, 1.69e+03, 3.00e+00, 2.00e+00, 0.00e+00],\n",
       "       [1.00e+00, 1.82e+03, 3.00e+00, 2.00e+00, 1.00e+00],\n",
       "       [1.00e+00, 2.21e+03, 4.00e+00, 3.00e+00, 1.00e+00],\n",
       "       [1.00e+00, 2.29e+03, 4.00e+00, 3.00e+00, 0.00e+00],\n",
       "       [1.00e+00, 2.00e+03, 4.00e+00, 2.00e+00, 0.00e+00],\n",
       "       [1.00e+00, 1.70e+03, 3.00e+00, 2.00e+00, 0.00e+00],\n",
       "       [1.00e+00, 1.60e+03, 2.00e+00, 2.00e+00, 0.00e+00],\n",
       "       [1.00e+00, 2.04e+03, 4.00e+00, 3.00e+00, 1.00e+00],\n",
       "       [1.00e+00, 2.25e+03, 4.00e+00, 3.00e+00, 1.00e+00],\n",
       "       [1.00e+00, 1.93e+03, 2.00e+00, 2.00e+00, 1.00e+00],\n",
       "       [1.00e+00, 2.25e+03, 3.00e+00, 3.00e+00, 1.00e+00],\n",
       "       [1.00e+00, 2.28e+03, 5.00e+00, 3.00e+00, 1.00e+00],\n",
       "       [1.00e+00, 2.00e+03, 2.00e+00, 2.00e+00, 0.00e+00],\n",
       "       [1.00e+00, 2.08e+03, 3.00e+00, 3.00e+00, 0.00e+00],\n",
       "       [1.00e+00, 1.88e+03, 2.00e+00, 2.00e+00, 0.00e+00],\n",
       "       [1.00e+00, 2.42e+03, 4.00e+00, 3.00e+00, 0.00e+00],\n",
       "       [1.00e+00, 1.72e+03, 3.00e+00, 2.00e+00, 0.00e+00],\n",
       "       [1.00e+00, 1.74e+03, 3.00e+00, 2.00e+00, 0.00e+00],\n",
       "       [1.00e+00, 1.56e+03, 2.00e+00, 2.00e+00, 0.00e+00],\n",
       "       [1.00e+00, 1.84e+03, 4.00e+00, 3.00e+00, 0.00e+00],\n",
       "       [1.00e+00, 1.99e+03, 2.00e+00, 2.00e+00, 0.00e+00],\n",
       "       [1.00e+00, 1.92e+03, 3.00e+00, 2.00e+00, 1.00e+00],\n",
       "       [1.00e+00, 1.94e+03, 3.00e+00, 3.00e+00, 1.00e+00],\n",
       "       [1.00e+00, 1.81e+03, 3.00e+00, 2.00e+00, 0.00e+00],\n",
       "       [1.00e+00, 1.99e+03, 2.00e+00, 3.00e+00, 0.00e+00],\n",
       "       [1.00e+00, 2.05e+03, 3.00e+00, 2.00e+00, 0.00e+00],\n",
       "       [1.00e+00, 1.98e+03, 2.00e+00, 2.00e+00, 0.00e+00],\n",
       "       [1.00e+00, 1.70e+03, 3.00e+00, 2.00e+00, 1.00e+00],\n",
       "       [1.00e+00, 2.10e+03, 3.00e+00, 2.00e+00, 1.00e+00],\n",
       "       [1.00e+00, 1.86e+03, 2.00e+00, 2.00e+00, 0.00e+00],\n",
       "       [1.00e+00, 2.15e+03, 2.00e+00, 3.00e+00, 0.00e+00],\n",
       "       [1.00e+00, 2.10e+03, 3.00e+00, 2.00e+00, 0.00e+00],\n",
       "       [1.00e+00, 1.65e+03, 3.00e+00, 2.00e+00, 0.00e+00],\n",
       "       [1.00e+00, 1.72e+03, 2.00e+00, 2.00e+00, 1.00e+00],\n",
       "       [1.00e+00, 2.19e+03, 3.00e+00, 2.00e+00, 1.00e+00],\n",
       "       [1.00e+00, 2.24e+03, 4.00e+00, 3.00e+00, 0.00e+00],\n",
       "       [1.00e+00, 1.84e+03, 3.00e+00, 3.00e+00, 0.00e+00],\n",
       "       [1.00e+00, 2.09e+03, 4.00e+00, 2.00e+00, 0.00e+00],\n",
       "       [1.00e+00, 2.20e+03, 3.00e+00, 3.00e+00, 0.00e+00],\n",
       "       [1.00e+00, 1.61e+03, 2.00e+00, 2.00e+00, 0.00e+00],\n",
       "       [1.00e+00, 2.22e+03, 4.00e+00, 3.00e+00, 0.00e+00],\n",
       "       [1.00e+00, 1.91e+03, 2.00e+00, 3.00e+00, 0.00e+00],\n",
       "       [1.00e+00, 1.86e+03, 3.00e+00, 2.00e+00, 0.00e+00],\n",
       "       [1.00e+00, 1.45e+03, 2.00e+00, 2.00e+00, 1.00e+00],\n",
       "       [1.00e+00, 2.21e+03, 3.00e+00, 3.00e+00, 0.00e+00],\n",
       "       [1.00e+00, 2.04e+03, 4.00e+00, 3.00e+00, 0.00e+00],\n",
       "       [1.00e+00, 2.14e+03, 3.00e+00, 2.00e+00, 0.00e+00],\n",
       "       [1.00e+00, 2.08e+03, 4.00e+00, 3.00e+00, 0.00e+00],\n",
       "       [1.00e+00, 1.95e+03, 3.00e+00, 3.00e+00, 1.00e+00],\n",
       "       [1.00e+00, 2.16e+03, 4.00e+00, 2.00e+00, 0.00e+00],\n",
       "       [1.00e+00, 1.65e+03, 3.00e+00, 2.00e+00, 0.00e+00],\n",
       "       [1.00e+00, 2.04e+03, 3.00e+00, 3.00e+00, 0.00e+00],\n",
       "       [1.00e+00, 2.14e+03, 3.00e+00, 3.00e+00, 0.00e+00],\n",
       "       [1.00e+00, 1.90e+03, 2.00e+00, 2.00e+00, 0.00e+00],\n",
       "       [1.00e+00, 1.93e+03, 3.00e+00, 2.00e+00, 0.00e+00],\n",
       "       [1.00e+00, 2.28e+03, 4.00e+00, 3.00e+00, 1.00e+00],\n",
       "       [1.00e+00, 2.13e+03, 3.00e+00, 2.00e+00, 0.00e+00],\n",
       "       [1.00e+00, 1.78e+03, 4.00e+00, 2.00e+00, 0.00e+00],\n",
       "       [1.00e+00, 2.19e+03, 3.00e+00, 3.00e+00, 1.00e+00],\n",
       "       [1.00e+00, 2.14e+03, 4.00e+00, 3.00e+00, 1.00e+00],\n",
       "       [1.00e+00, 2.05e+03, 2.00e+00, 2.00e+00, 1.00e+00],\n",
       "       [1.00e+00, 2.41e+03, 3.00e+00, 3.00e+00, 0.00e+00],\n",
       "       [1.00e+00, 1.52e+03, 2.00e+00, 2.00e+00, 0.00e+00],\n",
       "       [1.00e+00, 2.25e+03, 4.00e+00, 3.00e+00, 1.00e+00],\n",
       "       [1.00e+00, 1.90e+03, 4.00e+00, 2.00e+00, 0.00e+00],\n",
       "       [1.00e+00, 1.88e+03, 3.00e+00, 3.00e+00, 1.00e+00],\n",
       "       [1.00e+00, 1.93e+03, 3.00e+00, 3.00e+00, 0.00e+00],\n",
       "       [1.00e+00, 2.01e+03, 2.00e+00, 2.00e+00, 0.00e+00],\n",
       "       [1.00e+00, 1.92e+03, 4.00e+00, 2.00e+00, 0.00e+00],\n",
       "       [1.00e+00, 2.15e+03, 3.00e+00, 2.00e+00, 0.00e+00],\n",
       "       [1.00e+00, 2.11e+03, 3.00e+00, 2.00e+00, 0.00e+00],\n",
       "       [1.00e+00, 2.08e+03, 3.00e+00, 3.00e+00, 0.00e+00],\n",
       "       [1.00e+00, 2.15e+03, 4.00e+00, 3.00e+00, 1.00e+00],\n",
       "       [1.00e+00, 1.97e+03, 2.00e+00, 2.00e+00, 1.00e+00],\n",
       "       [1.00e+00, 2.44e+03, 3.00e+00, 3.00e+00, 0.00e+00],\n",
       "       [1.00e+00, 2.00e+03, 2.00e+00, 2.00e+00, 1.00e+00],\n",
       "       [1.00e+00, 2.06e+03, 3.00e+00, 2.00e+00, 0.00e+00],\n",
       "       [1.00e+00, 2.08e+03, 3.00e+00, 3.00e+00, 1.00e+00],\n",
       "       [1.00e+00, 2.01e+03, 3.00e+00, 2.00e+00, 0.00e+00],\n",
       "       [1.00e+00, 2.26e+03, 3.00e+00, 3.00e+00, 0.00e+00],\n",
       "       [1.00e+00, 2.41e+03, 3.00e+00, 3.00e+00, 0.00e+00],\n",
       "       [1.00e+00, 2.44e+03, 4.00e+00, 3.00e+00, 1.00e+00],\n",
       "       [1.00e+00, 1.91e+03, 3.00e+00, 2.00e+00, 0.00e+00],\n",
       "       [1.00e+00, 2.53e+03, 4.00e+00, 3.00e+00, 0.00e+00],\n",
       "       [1.00e+00, 2.13e+03, 3.00e+00, 2.00e+00, 0.00e+00],\n",
       "       [1.00e+00, 1.89e+03, 3.00e+00, 2.00e+00, 1.00e+00],\n",
       "       [1.00e+00, 1.99e+03, 3.00e+00, 3.00e+00, 1.00e+00],\n",
       "       [1.00e+00, 2.11e+03, 3.00e+00, 2.00e+00, 0.00e+00],\n",
       "       [1.00e+00, 1.71e+03, 2.00e+00, 2.00e+00, 0.00e+00],\n",
       "       [1.00e+00, 1.74e+03, 2.00e+00, 2.00e+00, 0.00e+00],\n",
       "       [1.00e+00, 1.94e+03, 2.00e+00, 2.00e+00, 1.00e+00],\n",
       "       [1.00e+00, 2.00e+03, 3.00e+00, 2.00e+00, 1.00e+00],\n",
       "       [1.00e+00, 2.01e+03, 4.00e+00, 3.00e+00, 0.00e+00],\n",
       "       [1.00e+00, 1.90e+03, 3.00e+00, 3.00e+00, 0.00e+00],\n",
       "       [1.00e+00, 2.29e+03, 5.00e+00, 4.00e+00, 1.00e+00],\n",
       "       [1.00e+00, 1.92e+03, 3.00e+00, 2.00e+00, 0.00e+00],\n",
       "       [1.00e+00, 1.95e+03, 3.00e+00, 2.00e+00, 1.00e+00],\n",
       "       [1.00e+00, 1.92e+03, 2.00e+00, 2.00e+00, 0.00e+00],\n",
       "       [1.00e+00, 1.93e+03, 2.00e+00, 3.00e+00, 0.00e+00],\n",
       "       [1.00e+00, 1.93e+03, 3.00e+00, 3.00e+00, 0.00e+00],\n",
       "       [1.00e+00, 2.06e+03, 2.00e+00, 2.00e+00, 1.00e+00],\n",
       "       [1.00e+00, 1.90e+03, 3.00e+00, 3.00e+00, 1.00e+00],\n",
       "       [1.00e+00, 2.16e+03, 4.00e+00, 3.00e+00, 1.00e+00],\n",
       "       [1.00e+00, 2.07e+03, 2.00e+00, 2.00e+00, 0.00e+00],\n",
       "       [1.00e+00, 2.02e+03, 3.00e+00, 3.00e+00, 0.00e+00],\n",
       "       [1.00e+00, 2.25e+03, 3.00e+00, 3.00e+00, 0.00e+00]])"
      ]
     },
     "execution_count": 22,
     "metadata": {},
     "output_type": "execute_result"
    }
   ],
   "source": [
    "np.c_[np.ones((X.shape[0], 1)), X]"
   ]
  },
  {
   "cell_type": "code",
   "execution_count": 23,
   "metadata": {},
   "outputs": [],
   "source": [
    "learning_rate = 0.00001\n",
    "iterations = 500\n",
    "\n",
    "def compute_cost(X, y, theta):\n",
    "    m = len(y)\n",
    "    predictions = X.dot(theta)\n",
    "    cost = (1 / (2 * m)) * np.sum(np.square(predictions - y))\n",
    "    return cost"
   ]
  },
  {
   "cell_type": "code",
   "execution_count": 24,
   "metadata": {},
   "outputs": [
    {
     "name": "stdout",
     "output_type": "stream",
     "text": [
      "Iteration 0, Cost: 13428807018737.082, Theta: [[1.30427344e+00]\n",
      " [2.64095938e+03]\n",
      " [4.04517188e+00]\n",
      " [3.26112500e+00]\n",
      " [4.84867188e-01]]\n",
      "Iteration 100, Cost: inf, Theta: [[5.55359146e+159]\n",
      " [1.12356580e+163]\n",
      " [1.69955703e+160]\n",
      " [1.37369651e+160]\n",
      " [1.84418636e+159]]\n",
      "Iteration 200, Cost: nan, Theta: [[nan]\n",
      " [nan]\n",
      " [nan]\n",
      " [nan]\n",
      " [nan]]\n",
      "Iteration 300, Cost: nan, Theta: [[nan]\n",
      " [nan]\n",
      " [nan]\n",
      " [nan]\n",
      " [nan]]\n",
      "Iteration 400, Cost: nan, Theta: [[nan]\n",
      " [nan]\n",
      " [nan]\n",
      " [nan]\n",
      " [nan]]\n"
     ]
    },
    {
     "name": "stderr",
     "output_type": "stream",
     "text": [
      "/home/fraz/Documents/ML/env/lib/python3.8/site-packages/numpy/core/fromnumeric.py:86: RuntimeWarning: overflow encountered in reduce\n",
      "  return ufunc.reduce(obj, axis, dtype, out, **passkwargs)\n",
      "/tmp/ipykernel_23977/993204806.py:7: RuntimeWarning: overflow encountered in square\n",
      "  cost = (1 / (2 * m)) * np.sum(np.square(predictions - y))\n",
      "/tmp/ipykernel_23977/32804811.py:11: RuntimeWarning: invalid value encountered in subtract\n",
      "  theta -= learning_rate * gradients\n"
     ]
    },
    {
     "name": "stdout",
     "output_type": "stream",
     "text": [
      "Final Cost after Gradient Descent: nan\n"
     ]
    }
   ],
   "source": [
    "def gradient_descent(X, y, theta, learning_rate, iterations):\n",
    "    m = len(y)\n",
    "    cost_history = []\n",
    "    theta = np.array(theta, dtype=np.float64)\n",
    "    for i in range(iterations):\n",
    "        predictions = X.dot(theta)\n",
    "        error =predictions-y\n",
    "        gradients = (1 / m) * X.T.dot(error)\n",
    "        \n",
    "        gradients = np.array(gradients, dtype=np.float64)\n",
    "        theta -= learning_rate * gradients\n",
    "        \n",
    "        cost = compute_cost(X, y, theta)\n",
    "        cost_history.append(cost)\n",
    "\n",
    "        if i % 100 == 0:\n",
    "            print(f\"Iteration {i}, Cost: {cost}, Theta: {theta}\")\n",
    "\n",
    "    return theta, cost_history\n",
    "\n",
    "theta, cost_history = gradient_descent(X_b, y, theta, learning_rate, iterations)\n",
    "\n",
    "final_cost = compute_cost(X_b, y, theta)\n",
    "print(f\"Final Cost after Gradient Descent: {final_cost}\")\n",
    "\n"
   ]
  },
  {
   "cell_type": "code",
   "execution_count": 25,
   "metadata": {},
   "outputs": [
    {
     "data": {
      "image/png": "[encoded data removed]",
      "text/plain": [
       "<Figure size 640x480 with 1 Axes>"
      ]
     },
     "metadata": {},
     "output_type": "display_data"
    }
   ],
   "source": [
    "plt.plot(range(iterations), cost_history)\n",
    "plt.xlabel(\"Iterations\")\n",
    "plt.ylabel(\"Cost (MSE)\")\n",
    "plt.title(\"Convergence of Gradient Descent\")\n",
    "plt.show()"
   ]
  },
  {
   "cell_type": "code",
   "execution_count": 26,
   "metadata": {},
   "outputs": [
    {
     "name": "stdout",
     "output_type": "stream",
     "text": [
      "Predicted prices: [[nan]\n",
      " [nan]\n",
      " [nan]\n",
      " [nan]\n",
      " [nan]]\n"
     ]
    }
   ],
   "source": [
    "predictions = X_b.dot(theta)\n",
    "\n",
    "print(\"Predicted prices:\", predictions[:5])"
   ]
  },
  {
   "cell_type": "code",
   "execution_count": 27,
   "metadata": {},
   "outputs": [
    {
     "data": {
      "image/png": "[encoded data removed]",
      "text/plain": [
       "<Figure size 640x480 with 1 Axes>"
      ]
     },
     "metadata": {},
     "output_type": "display_data"
    }
   ],
   "source": [
    "plt.scatter(data['SqFt'], y, color='blue', label='Actiual points')\n",
    "plt.plot(data['SqFt'], predictions, color='red', label='Predicted Points')\n",
    "plt.xlabel(\"X\")\n",
    "plt.ylabel(\"y\")\n",
    "plt.title(\"Actual vs Predicted Points\")\n",
    "plt.legend()\n",
    "plt.show()"
   ]
  },
  {
   "cell_type": "code",
   "execution_count": 28,
   "metadata": {},
   "outputs": [
    {
     "data": {
      "text/plain": [
       "array([10, 18])"
      ]
     },
     "execution_count": 28,
     "metadata": {},
     "output_type": "execute_result"
    }
   ],
   "source": [
    "np.dot([[1,2,3,4],[3,4,5,6]],[1,1,1,1])"
   ]
  }
 ],
 "metadata": {
  "kernelspec": {
   "display_name": "env",
   "language": "python",
   "name": "python3"
  },
  "language_info": {
   "codemirror_mode": {
    "name": "ipython",
    "version": 3
   },
   "file_extension": ".py",
   "mimetype": "text/x-python",
   "name": "python",
   "nbconvert_exporter": "python",
   "pygments_lexer": "ipython3",
   "version": "3.8.10"
  }
 },
 "nbformat": 4,
 "nbformat_minor": 2
}
