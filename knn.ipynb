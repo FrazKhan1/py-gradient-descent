{
 "cells": [
  {
   "cell_type": "code",
   "execution_count": 16,
   "metadata": {},
   "outputs": [],
   "source": [
    "import numpy as np\n",
    "\n",
    "arr = np.random.randint(0, 2, size=(10, 3))\n",
    "\n",
    "X = arr[:, :2]\n",
    "Y = arr[:, 2].reshape(-1, 1)\n",
    "W = np.zeros(X.shape[1]).reshape(-1, 1)\n",
    "\n",
    "X_test = X[:8]\n",
    "X_train = X[8:]\n",
    "\n",
    "Y_test = Y[:8]\n",
    "Y_train = Y[8:]\n",
    "\n",
    "def ED(a, b):\n",
    "    return np.sqrt(np.sum((a - b) ** 2))"
   ]
  }
 ],
 "metadata": {
  "kernelspec": {
   "display_name": "env",
   "language": "python",
   "name": "python3"
  },
  "language_info": {
   "codemirror_mode": {
    "name": "ipython",
    "version": 3
   },
   "file_extension": ".py",
   "mimetype": "text/x-python",
   "name": "python",
   "nbconvert_exporter": "python",
   "pygments_lexer": "ipython3",
   "version": "3.8.10"
  }
 },
 "nbformat": 4,
 "nbformat_minor": 2
}
